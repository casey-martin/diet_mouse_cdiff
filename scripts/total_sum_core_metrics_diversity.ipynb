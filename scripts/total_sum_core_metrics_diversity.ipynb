{
 "cells": [
  {
   "attachments": {},
   "cell_type": "markdown",
   "metadata": {},
   "source": [
    "## Running core metrics diversity in qiime2 on the total_sum_scaled data"
   ]
  },
  {
   "attachments": {},
   "cell_type": "markdown",
   "metadata": {},
   "source": [
    "need to first convert my tsv file to a qza file to run the core diversity analysis"
   ]
  },
  {
   "cell_type": "code",
   "execution_count": 1,
   "metadata": {},
   "outputs": [],
   "source": [
    "## converting my tsv to a biom table as an intermediate\n",
    "! biom convert \\\n",
    "    -i data/total_sum_scaling3.tsv \\\n",
    "    -o data/total_sum_scaling3.biom \\\n",
    "    --table-type \"Table\" \\\n",
    "    --to-hdf5"
   ]
  },
  {
   "cell_type": "code",
   "execution_count": 2,
   "metadata": {},
   "outputs": [
    {
     "name": "stdout",
     "output_type": "stream",
     "text": [
      "\u001b[32mImported updated/total_sum_scaling3.biom as BIOMV210DirFmt to updated/total_sum_scaling3.qza\u001b[0m\n",
      "\u001b[0m"
     ]
    }
   ],
   "source": [
    "## converting my new biom table to a qza file \n",
    "! qiime tools import \\\n",
    "    --input-path data/total_sum_scaling3.biom \\\n",
    "    --type 'FeatureTable[Frequency]' \\\n",
    "    --output-path data/total_sum_scaling3.qza"
   ]
  },
  {
   "cell_type": "code",
   "execution_count": 3,
   "metadata": {},
   "outputs": [
    {
     "name": "stdout",
     "output_type": "stream",
     "text": [
      "\u001b[32mSaved Visualization to: /Users/madiapgar/gut_microbiome_metabolomics/total_sum_scaled/total_sum_scaling2.qzv\u001b[0m\n",
      "\u001b[0m"
     ]
    }
   ],
   "source": [
    "! qiime feature-table summarize \\\n",
    "    --i-table data/total_sum_scaling3.qza \\\n",
    "    --o-visualization data/total_sum_scaling3.qzv"
   ]
  },
  {
   "cell_type": "code",
   "execution_count": 4,
   "metadata": {},
   "outputs": [
    {
     "name": "stdout",
     "output_type": "stream",
     "text": [
      "Press the 'q' key, Control-C, or Control-D to quit. This view may no longer be accessible or work correctly after quitting.\n",
      "Press the 'q' key, Control-C, or Control-D to quit. This view may no longer be accessible or work correctly after quitting."
     ]
    }
   ],
   "source": [
    "! qiime tools view data/total_sum_scaling3.qzv"
   ]
  },
  {
   "attachments": {},
   "cell_type": "markdown",
   "metadata": {},
   "source": [
    "converting the rep-seqs to a fasta file (updated as of May 16, 2023)"
   ]
  },
  {
   "cell_type": "code",
   "execution_count": 6,
   "metadata": {},
   "outputs": [
    {
     "name": "stdout",
     "output_type": "stream",
     "text": [
      "\u001b[32mExported /Users/madiapgar/gut_microbiome_metabolomics/CaseyandMadi/euk_filt-mergedDietAim1rep-seqs_051523-Copy1.qza as DNASequencesDirectoryFormat to directory /Users/madiapgar/gut_microbiome_metabolomics/total_sum_scaled/updated\u001b[0m\n",
      "\u001b[0m"
     ]
    }
   ],
   "source": [
    "! qiime tools export \\\n",
    "    --input-path data/euk_filt-mergedDietAim1rep-seqs_051523-Copy1.qza \\\n",
    "    --output-path /Users/madiapgar/gut_microbiome_metabolomics/total_sum_scaled/tss3/data"
   ]
  },
  {
   "attachments": {},
   "cell_type": "markdown",
   "metadata": {},
   "source": [
    "need to use my rep seqs file to generate a phylogenetic tree via sepp"
   ]
  },
  {
   "cell_type": "code",
   "execution_count": 8,
   "metadata": {},
   "outputs": [
    {
     "name": "stdout",
     "output_type": "stream",
     "text": [
      "^C\n"
     ]
    }
   ],
   "source": [
    "! qiime fragment-insertion sepp \\\n",
    "--i-representative-sequences data/euk_filt-mergedDietAim1rep-seqs_051523-Copy1.qza \\\n",
    "--o-tree data/tree.qza \\\n",
    "--o-placements data/placements.qza \\\n",
    "--i-reference-database inputs/sepp-refs-silva-128.qza"
   ]
  },
  {
   "attachments": {},
   "cell_type": "markdown",
   "metadata": {},
   "source": [
    "need to filter the sepp phylogenic tree via my biom table to only include relevant ASVs"
   ]
  },
  {
   "cell_type": "code",
   "execution_count": null,
   "metadata": {},
   "outputs": [],
   "source": [
    "! qiime fragment-insertion filter-features \\\n",
    "--i-table data/total_sum_scaling3.qza \\\n",
    "--i-tree data/tree.qza \\\n",
    "--o-filtered-table data/total-sum-filtered-table.qza \\\n",
    "--o-removed-table data/total-sum-removed-table.qza"
   ]
  },
  {
   "attachments": {},
   "cell_type": "markdown",
   "metadata": {},
   "source": [
    "generation of taxonomic classification and filtering steps before alpha and beta diversity analysis"
   ]
  },
  {
   "cell_type": "code",
   "execution_count": null,
   "metadata": {},
   "outputs": [],
   "source": [
    "! qiime feature-classifier classify-sklearn \\\n",
    "--i-classifier /Users/madiapgar/Desktop/qiimework/silva-138-99-515-806-nb-classifier.qza \\\n",
    "--i-reads data/euk_filt-mergedDietAim1rep-seqs_051523-Copy1.qza \\\n",
    "--o-classification data/taxonomy.qza"
   ]
  },
  {
   "cell_type": "code",
   "execution_count": null,
   "metadata": {},
   "outputs": [],
   "source": [
    "! qiime metadata tabulate \\\n",
    "--m-input-file data/taxonomy.qza \\\n",
    "--o-visualization data/taxonomy.qzv"
   ]
  },
  {
   "cell_type": "code",
   "execution_count": null,
   "metadata": {},
   "outputs": [],
   "source": [
    "## filtering my taxonomic table \n",
    "! qiime taxa filter-table \\\n",
    "--i-table data/total_sum_scaling3.qza \\\n",
    "--i-taxonomy data/taxonomy.qza \\\n",
    "--p-include p_ \\\n",
    "--p-exclude mitochondria,chloroplast \\\n",
    "--o-filtered-table data/taxonomy_filtered.qza"
   ]
  },
  {
   "cell_type": "code",
   "execution_count": null,
   "metadata": {},
   "outputs": [],
   "source": [
    "## i'm creating a visualization for my taxonomic filtered table and I will be able to use that table for my alpha/beta\n",
    "## diversity aanlysis and building my taxa bar chart \n",
    "! qiime feature-table summarize \\\n",
    "--i-table data/taxonomy_filtered.qza \\\n",
    "--o-visualization data/taxonomy_filtered.qzv"
   ]
  },
  {
   "cell_type": "code",
   "execution_count": 2,
   "metadata": {},
   "outputs": [
    {
     "name": "stdout",
     "output_type": "stream",
     "text": [
      "Press the 'q' key, Control-C, or Control-D to quit. This view may no longer be accessible or work correctly after quitting.\n",
      "Press the 'q' key, Control-C, or Control-D to quit. This view may no longer be accessible or work correctly after quitting."
     ]
    }
   ],
   "source": [
    "! qiime tools view /Users/madiapgar/gut_microbiome_metabolomics/total_sum_scaled/tss3/data/taxonomy_filtered.qzv"
   ]
  },
  {
   "attachments": {},
   "cell_type": "markdown",
   "metadata": {},
   "source": [
    "now I can run my core metrics diversity since I have two qza files\n",
    " -- need to know my sampling depth from my filtered table before I can do this"
   ]
  },
  {
   "cell_type": "code",
   "execution_count": null,
   "metadata": {},
   "outputs": [],
   "source": [
    "! qiime diversity core-metrics-phylogenetic \\\n",
    "--i-phylogeny data/tree.qza \\\n",
    "--i-table data/taxonomy_filtered.qza \\\n",
    "--p-sampling-depth  99976 \\\n",
    "--m-metadata-file data/total_sum_metadata.tsv \\\n",
    "--output-dir tss_core_metrics3"
   ]
  },
  {
   "attachments": {},
   "cell_type": "markdown",
   "metadata": {},
   "source": [
    "some of my samples couldn't go through core metrics so I had to filter them out of the taxonomic table using my metadata file before I could re-run core metrics"
   ]
  },
  {
   "cell_type": "code",
   "execution_count": 7,
   "metadata": {},
   "outputs": [
    {
     "name": "stdout",
     "output_type": "stream",
     "text": [
      "\u001b[32mSaved FeatureTable[Frequency] to: /Users/madiapgar/gut_microbiome_metabolomics/total_sum_scaled/tax_filt_actual.qza\u001b[0m\n",
      "\u001b[0m"
     ]
    }
   ],
   "source": [
    "! qiime feature-table filter-samples \\\n",
    "    --i-table data/taxonomy_filtered.qza \\\n",
    "    --m-metadata-file data/total_sum_metadata.tsv \\\n",
    "    --o-filtered-table data/tax_filt_actual.qza"
   ]
  },
  {
   "attachments": {},
   "cell_type": "markdown",
   "metadata": {},
   "source": [
    "## fixing core outputs for R"
   ]
  },
  {
   "attachments": {},
   "cell_type": "markdown",
   "metadata": {},
   "source": [
    "have to fix my faith pd qza because R doesn't like that it has empty cells. so I'm going to convert it to a tsv and see if I can deal with it that way."
   ]
  },
  {
   "attachments": {},
   "cell_type": "markdown",
   "metadata": {},
   "source": [
    "putting my faith pd vector into qiime metadata tabulate gave me a tsv file that I could download once the visualization was opened, this helped me overcome the problem of not being able to read it into R or basically do anything else with it - go team!"
   ]
  },
  {
   "cell_type": "code",
   "execution_count": 17,
   "metadata": {},
   "outputs": [
    {
     "name": "stdout",
     "output_type": "stream",
     "text": [
      "\u001b[32mSaved Visualization to: tss_core_metrics2/faith_pd_vector.qzv\u001b[0m\n",
      "\u001b[0m"
     ]
    }
   ],
   "source": [
    "! qiime metadata tabulate \\\n",
    "    --m-input-file tss_core_metrics3/faith_pd_vector.qza \\\n",
    "    --o-visualization tss_core_metrics3/faith_pd_vector.qzv"
   ]
  },
  {
   "cell_type": "code",
   "execution_count": 20,
   "metadata": {},
   "outputs": [
    {
     "name": "stdout",
     "output_type": "stream",
     "text": [
      "Press the 'q' key, Control-C, or Control-D to quit. This view may no longer be accessible or work correctly after quitting.\n",
      "Press the 'q' key, Control-C, or Control-D to quit. This view may no longer be accessible or work correctly after quitting."
     ]
    }
   ],
   "source": [
    "! qiime tools view tss_core_metrics3/faith_pd_vector.qzv"
   ]
  },
  {
   "cell_type": "code",
   "execution_count": 12,
   "metadata": {},
   "outputs": [
    {
     "name": "stdout",
     "output_type": "stream",
     "text": [
      "\u001b[32mSaved Visualization to: tss_core_metrics2/faith_pd.qzv\u001b[0m\n",
      "\u001b[0m"
     ]
    }
   ],
   "source": [
    "! qiime diversity alpha-group-significance \\\n",
    "--i-alpha-diversity tss_core_metrics3/faith_pd_vector.qza \\\n",
    "--m-metadata-file data/total_sum_metadata.tsv \\\n",
    "--o-visualization tss_core_metrics3/faith_pd.qzv"
   ]
  },
  {
   "cell_type": "code",
   "execution_count": 19,
   "metadata": {},
   "outputs": [
    {
     "name": "stdout",
     "output_type": "stream",
     "text": [
      "Press the 'q' key, Control-C, or Control-D to quit. This view may no longer be accessible or work correctly after quitting.\n",
      "Press the 'q' key, Control-C, or Control-D to quit. This view may no longer be accessible or work correctly after quitting."
     ]
    }
   ],
   "source": [
    "! qiime tools view tss_core_metrics3/faith_pd.qzv"
   ]
  },
  {
   "attachments": {},
   "cell_type": "markdown",
   "metadata": {},
   "source": [
    "## Running core metrics on tss3 (total sum scaled part three) with lactococcus ASVs subtracted out (finally)"
   ]
  },
  {
   "cell_type": "code",
   "execution_count": 1,
   "metadata": {},
   "outputs": [
    {
     "name": "stdout",
     "output_type": "stream",
     "text": [
      "\u001b[32mSaved Visualization to: total_sum_part_three/tax_filt_actual.qzv\u001b[0m\n",
      "\u001b[0m"
     ]
    }
   ],
   "source": [
    "## checking the sampling depth for core metrics analysis \n",
    "! qiime feature-table summarize \\\n",
    "    --i-table data/tax_filt_actual.qza \\\n",
    "    --o-visualization data/tax_filt_actual.qzv "
   ]
  },
  {
   "cell_type": "code",
   "execution_count": 2,
   "metadata": {},
   "outputs": [
    {
     "name": "stdout",
     "output_type": "stream",
     "text": [
      "Press the 'q' key, Control-C, or Control-D to quit. This view may no longer be accessible or work correctly after quitting.\n",
      "Press the 'q' key, Control-C, or Control-D to quit. This view may no longer be accessible or work correctly after quitting."
     ]
    }
   ],
   "source": [
    "! qiime tools view data/tax_filt_actual.qzv\n",
    "## sampling depth should be 99976"
   ]
  },
  {
   "cell_type": "code",
   "execution_count": 3,
   "metadata": {},
   "outputs": [
    {
     "name": "stdout",
     "output_type": "stream",
     "text": [
      "\u001b[32mSaved FeatureTable[Frequency] to: total_sum_part_three/tss_core_metrics3/rarefied_table.qza\u001b[0m\n",
      "\u001b[32mSaved SampleData[AlphaDiversity] to: total_sum_part_three/tss_core_metrics3/faith_pd_vector.qza\u001b[0m\n",
      "\u001b[32mSaved SampleData[AlphaDiversity] to: total_sum_part_three/tss_core_metrics3/observed_features_vector.qza\u001b[0m\n",
      "\u001b[32mSaved SampleData[AlphaDiversity] to: total_sum_part_three/tss_core_metrics3/shannon_vector.qza\u001b[0m\n",
      "\u001b[32mSaved SampleData[AlphaDiversity] to: total_sum_part_three/tss_core_metrics3/evenness_vector.qza\u001b[0m\n",
      "\u001b[32mSaved DistanceMatrix to: total_sum_part_three/tss_core_metrics3/unweighted_unifrac_distance_matrix.qza\u001b[0m\n",
      "\u001b[32mSaved DistanceMatrix to: total_sum_part_three/tss_core_metrics3/weighted_unifrac_distance_matrix.qza\u001b[0m\n",
      "\u001b[32mSaved DistanceMatrix to: total_sum_part_three/tss_core_metrics3/jaccard_distance_matrix.qza\u001b[0m\n",
      "\u001b[32mSaved DistanceMatrix to: total_sum_part_three/tss_core_metrics3/bray_curtis_distance_matrix.qza\u001b[0m\n",
      "\u001b[32mSaved PCoAResults to: total_sum_part_three/tss_core_metrics3/unweighted_unifrac_pcoa_results.qza\u001b[0m\n",
      "\u001b[32mSaved PCoAResults to: total_sum_part_three/tss_core_metrics3/weighted_unifrac_pcoa_results.qza\u001b[0m\n",
      "\u001b[32mSaved PCoAResults to: total_sum_part_three/tss_core_metrics3/jaccard_pcoa_results.qza\u001b[0m\n",
      "\u001b[32mSaved PCoAResults to: total_sum_part_three/tss_core_metrics3/bray_curtis_pcoa_results.qza\u001b[0m\n",
      "\u001b[32mSaved Visualization to: total_sum_part_three/tss_core_metrics3/unweighted_unifrac_emperor.qzv\u001b[0m\n",
      "\u001b[32mSaved Visualization to: total_sum_part_three/tss_core_metrics3/weighted_unifrac_emperor.qzv\u001b[0m\n",
      "\u001b[32mSaved Visualization to: total_sum_part_three/tss_core_metrics3/jaccard_emperor.qzv\u001b[0m\n",
      "\u001b[32mSaved Visualization to: total_sum_part_three/tss_core_metrics3/bray_curtis_emperor.qzv\u001b[0m\n",
      "\u001b[0m"
     ]
    }
   ],
   "source": [
    "## actual core metrics analysis run locally bc I'm tired of dealing with the remote server\n",
    "! qiime diversity core-metrics-phylogenetic \\\n",
    "    --i-phylogeny data/tree.qza \\\n",
    "    --i-table data/tax_filt_actual.qza \\\n",
    "    --p-sampling-depth 99976 \\\n",
    "    --m-metadata-file data/total_sum_metadata.tsv \\\n",
    "    --output-dir tss_core_metrics3"
   ]
  }
 ],
 "metadata": {
  "kernelspec": {
   "display_name": "qiime2-2022.11",
   "language": "python",
   "name": "python3"
  },
  "language_info": {
   "codemirror_mode": {
    "name": "ipython",
    "version": 3
   },
   "file_extension": ".py",
   "mimetype": "text/x-python",
   "name": "python",
   "nbconvert_exporter": "python",
   "pygments_lexer": "ipython3",
   "version": "3.8.15"
  },
  "orig_nbformat": 4
 },
 "nbformat": 4,
 "nbformat_minor": 2
}
