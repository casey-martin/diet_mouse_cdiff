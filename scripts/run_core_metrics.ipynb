{
 "cells": [
  {
   "attachments": {},
   "cell_type": "markdown",
   "metadata": {},
   "source": [
    "## Core metrics diversity analysis on my total sum scaled data "
   ]
  },
  {
   "attachments": {},
   "cell_type": "markdown",
   "metadata": {},
   "source": [
    "now I can run my core metrics diversity since I have two qza files\n",
    " -- need to know my sampling depth from my filtered table before I can do this"
   ]
  },
  {
   "cell_type": "code",
   "execution_count": null,
   "metadata": {},
   "outputs": [],
   "source": [
    "! qiime diversity core-metrics-phylogenetic \\\n",
    "--i-phylogeny ../data/qiime/tree.qza \\\n",
    "--i-table ../data/qiime/taxonomy_filtered.qza \\\n",
    "--p-sampling-depth  99976 \\\n",
    "--m-metadata-file ../data/misc/merged_metadata1.tsv \\\n",
    "--output-dir ../data/qiime/core_outputs"
   ]
  }
 ],
 "metadata": {
  "language_info": {
   "name": "python"
  },
  "orig_nbformat": 4
 },
 "nbformat": 4,
 "nbformat_minor": 2
}
